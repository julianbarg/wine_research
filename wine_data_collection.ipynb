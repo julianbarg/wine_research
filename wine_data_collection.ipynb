{
 "cells": [
  {
   "cell_type": "markdown",
   "metadata": {},
   "source": [
    "# Organic wine data collection"
   ]
  },
  {
   "cell_type": "markdown",
   "metadata": {},
   "source": [
    "## Biodynamic vineyards"
   ]
  },
  {
   "cell_type": "code",
   "execution_count": 1,
   "metadata": {},
   "outputs": [],
   "source": [
    "import parameters"
   ]
  },
  {
   "cell_type": "code",
   "execution_count": 2,
   "metadata": {},
   "outputs": [],
   "source": [
    "from selenium import webdriver\n",
    "driver = webdriver.Chrome(parameters.chromedriver_location)"
   ]
  },
  {
   "cell_type": "code",
   "execution_count": 3,
   "metadata": {},
   "outputs": [],
   "source": [
    "from utilities.biodynamic_spiders import VineyardSpider\n",
    "vineyard_spider = VineyardSpider(driver = driver, destination = parameters.vineyard_destination)"
   ]
  },
  {
   "cell_type": "code",
   "execution_count": 4,
   "metadata": {},
   "outputs": [
    {
     "name": "stdout",
     "output_type": "stream",
     "text": [
      "Loading category \"Crops\" successful.\n",
      "Loading subcategory \"Fruit\" successful.\n",
      "Loading \"Grapes For Wine\" successful.\n",
      "Loading more vineyards.\n",
      "Loaded all vineyards.\n"
     ]
    }
   ],
   "source": [
    "from datetime import date\n",
    "vineyard_spider.load_vineyards(link = 'http://www.biodynamicfood.org/', \n",
    "                               time = date(year=2018, month=10, day=29))"
   ]
  },
  {
   "cell_type": "code",
   "execution_count": 6,
   "metadata": {},
   "outputs": [
    {
     "name": "stdout",
     "output_type": "stream",
     "text": [
      "['http://www.biodynamicfood.org/biodynamic/adamvs', 'http://www.biodynamicfood.org/biodynamic/ambyth-estate', 'http://www.biodynamicfood.org/biodynamic/ampelos-vineyards', 'http://www.biodynamicfood.org/biodynamic/Analemma-Wines', 'http://www.biodynamicfood.org/biodynamic/Annadel-Gap-Vineyard', 'http://www.biodynamicfood.org/biodynamic/araujo-estate', 'http://www.biodynamicfood.org/biodynamic/Bearg-Ranch-Vineyard', 'http://www.biodynamicfood.org/biodynamic/beaver-creek-vineyards', 'http://www.biodynamicfood.org/biodynamic/beckmen-purisima-vineyards', 'http://www.biodynamicfood.org/biodynamic/benziger-family-winery', 'http://www.biodynamicfood.org/biodynamic/bonterra-vineyards', 'http://www.biodynamicfood.org/biodynamic/brick-house-vineyards', 'http://www.biodynamicfood.org/biodynamic/brooks-vineyard', 'http://www.biodynamicfood.org/biodynamic/cooper-mountain-vineyards', 'http://www.biodynamicfood.org/biodynamic/cowhorn-vineyard-garden', 'http://www.biodynamicfood.org/biodynamic/dark-horse-vineyard', 'http://www.biodynamicfood.org/biodynamic/davero-sonoma-inc', 'http://www.biodynamicfood.org/biodynamic/deloach-vineyards', 'http://www.biodynamicfood.org/biodynamic/filigreen-farm', 'http://www.biodynamicfood.org/biodynamic/frey-vineyards-ltd', 'http://www.biodynamicfood.org/biodynamic/golden-vineyards', 'http://www.biodynamicfood.org/biodynamic/grimm-estates-llc', 'http://www.biodynamicfood.org/biodynamic/harms-vineyards-lavender-fields', 'http://www.biodynamicfood.org/biodynamic/hawk-horse-vineyards', 'http://www.biodynamicfood.org/biodynamic/hdd-llc', 'http://www.biodynamicfood.org/biodynamic/hedges-family-estate', 'http://www.biodynamicfood.org/biodynamic/jack-rabbit-hill-llc', 'http://www.biodynamicfood.org/biodynamic/jacob-hart-vineyard', 'http://www.biodynamicfood.org/biodynamic/johan-vineyards', 'http://www.biodynamicfood.org/biodynamic/keeler-estate-vineyard', 'http://www.biodynamicfood.org/biodynamic/maboroshi-vineyard', 'http://www.biodynamicfood.org/biodynamic/maha-estate', 'http://www.biodynamicfood.org/biodynamic/martian-ranch-vineyard', 'http://www.biodynamicfood.org/biodynamic/mattern-vineyards', 'http://www.biodynamicfood.org/biodynamic/Mineral-Springs-Ranch', 'http://www.biodynamicfood.org/biodynamic/montinore-estate', 'http://www.biodynamicfood.org/biodynamic/narrow-gate-vineyards', 'http://www.biodynamicfood.org/biodynamic/pearl-vineyard', 'http://www.biodynamicfood.org/biodynamic/pine-hawk-vineyards', 'http://www.biodynamicfood.org/biodynamic/porter-creek-vineyards', 'http://www.biodynamicfood.org/biodynamic/porter-bass-vineyards', 'http://www.biodynamicfood.org/biodynamic/preston-vineyards', 'http://www.biodynamicfood.org/biodynamic/puma-springs-vineyards', 'http://www.biodynamicfood.org/biodynamic/raymond-vineyard-and-cellar', 'http://www.biodynamicfood.org/biodynamic/Roederer-Estate-Domaine-Anderson', 'http://www.biodynamicfood.org/biodynamic/rose-ranch', 'http://www.biodynamicfood.org/biodynamic/Sea-Smoke-Cellars', 'http://www.biodynamicfood.org/biodynamic/sims-vineyard', 'http://www.biodynamicfood.org/biodynamic/sawyer-lindquist-vineyard', 'http://www.biodynamicfood.org/biodynamic/sun-hawk-farms', 'http://www.biodynamicfood.org/biodynamic/Tablas-Creek-Vineyard', 'http://www.biodynamicfood.org/biodynamic/Upper-Five-Vineyard', 'http://www.biodynamicfood.org/biodynamic/wilridge-vineyard']\n"
     ]
    }
   ],
   "source": [
    "vineyard_links = vineyard_spider.get_vineyard_links()\n",
    "print(vineyard_links)"
   ]
  },
  {
   "cell_type": "code",
   "execution_count": 7,
   "metadata": {},
   "outputs": [
    {
     "name": "stderr",
     "output_type": "stream",
     "text": [
      "2018-10-29 16:48:31 [scrapy.utils.log] INFO: Scrapy 1.5.1 started (bot: scrapybot)\n",
      "2018-10-29 16:48:31 [scrapy.utils.log] INFO: Versions: lxml 4.2.5.0, libxml2 2.9.8, cssselect 1.0.3, parsel 1.5.1, w3lib 1.19.0, Twisted 18.9.0, Python 3.6.6 (default, Sep 12 2018, 18:26:19) - [GCC 8.0.1 20180414 (experimental) [trunk revision 259383]], pyOpenSSL 18.0.0 (OpenSSL 1.1.0i  14 Aug 2018), cryptography 2.3.1, Platform Linux-4.15.0-38-generic-x86_64-with-Ubuntu-18.04-bionic\n",
      "2018-10-29 16:48:31 [scrapy.crawler] INFO: Overridden settings: {'USER_AGENT': 'Mozilla/4.0 (compatible; MSIE 7.0; Windows NT 5.1)'}\n",
      "2018-10-29 16:48:31 [scrapy.middleware] INFO: Enabled extensions:\n",
      "['scrapy.extensions.corestats.CoreStats',\n",
      " 'scrapy.extensions.telnet.TelnetConsole',\n",
      " 'scrapy.extensions.memusage.MemoryUsage',\n",
      " 'scrapy.extensions.logstats.LogStats']\n",
      "2018-10-29 16:48:31 [scrapy.middleware] INFO: Enabled downloader middlewares:\n",
      "['scrapy.downloadermiddlewares.httpauth.HttpAuthMiddleware',\n",
      " 'scrapy.downloadermiddlewares.downloadtimeout.DownloadTimeoutMiddleware',\n",
      " 'scrapy.downloadermiddlewares.defaultheaders.DefaultHeadersMiddleware',\n",
      " 'scrapy.downloadermiddlewares.useragent.UserAgentMiddleware',\n",
      " 'scrapy.downloadermiddlewares.retry.RetryMiddleware',\n",
      " 'scrapy.downloadermiddlewares.redirect.MetaRefreshMiddleware',\n",
      " 'scrapy.downloadermiddlewares.httpcompression.HttpCompressionMiddleware',\n",
      " 'scrapy.downloadermiddlewares.redirect.RedirectMiddleware',\n",
      " 'scrapy.downloadermiddlewares.cookies.CookiesMiddleware',\n",
      " 'scrapy.downloadermiddlewares.httpproxy.HttpProxyMiddleware',\n",
      " 'scrapy.downloadermiddlewares.stats.DownloaderStats']\n",
      "2018-10-29 16:48:31 [scrapy.middleware] INFO: Enabled spider middlewares:\n",
      "['scrapy.spidermiddlewares.httperror.HttpErrorMiddleware',\n",
      " 'scrapy.spidermiddlewares.offsite.OffsiteMiddleware',\n",
      " 'scrapy.spidermiddlewares.referer.RefererMiddleware',\n",
      " 'scrapy.spidermiddlewares.urllength.UrlLengthMiddleware',\n",
      " 'scrapy.spidermiddlewares.depth.DepthMiddleware']\n",
      "2018-10-29 16:48:31 [scrapy.middleware] INFO: Enabled item pipelines:\n",
      "[]\n",
      "2018-10-29 16:48:31 [scrapy.core.engine] INFO: Spider opened\n",
      "2018-10-29 16:48:31 [scrapy.extensions.logstats] INFO: Crawled 0 pages (at 0 pages/min), scraped 0 items (at 0 items/min)\n",
      "2018-10-29 16:48:31 [scrapy.extensions.telnet] DEBUG: Telnet console listening on 127.0.0.1:6023\n"
     ]
    }
   ],
   "source": [
    "vineyard_spider.prepare_vineyard_parsing(links = vineyard_links)"
   ]
  },
  {
   "cell_type": "code",
   "execution_count": 8,
   "metadata": {},
   "outputs": [
    {
     "name": "stderr",
     "output_type": "stream",
     "text": [
      "2018-10-29 16:48:33 [scrapy.core.engine] DEBUG: Crawled (200) <GET http://www.biodynamicfood.org/biodynamic/Analemma-Wines> (referer: None)\n",
      "2018-10-29 16:48:33 [scrapy.core.engine] DEBUG: Crawled (200) <GET http://www.biodynamicfood.org/biodynamic/ampelos-vineyards> (referer: None)\n",
      "2018-10-29 16:48:33 [scrapy.core.engine] DEBUG: Crawled (200) <GET http://www.biodynamicfood.org/biodynamic/adamvs> (referer: None)\n",
      "2018-10-29 16:48:33 [scrapy.core.engine] DEBUG: Crawled (200) <GET http://www.biodynamicfood.org/biodynamic/Bearg-Ranch-Vineyard> (referer: None)\n",
      "2018-10-29 16:48:33 [scrapy.core.engine] DEBUG: Crawled (200) <GET http://www.biodynamicfood.org/biodynamic/araujo-estate> (referer: None)\n",
      "2018-10-29 16:48:33 [scrapy.core.engine] DEBUG: Crawled (200) <GET http://www.biodynamicfood.org/biodynamic/beaver-creek-vineyards> (referer: None)\n",
      "2018-10-29 16:48:33 [scrapy.core.engine] DEBUG: Crawled (200) <GET http://www.biodynamicfood.org/biodynamic/Annadel-Gap-Vineyard> (referer: None)\n",
      "2018-10-29 16:48:33 [scrapy.core.engine] DEBUG: Crawled (200) <GET http://www.biodynamicfood.org/biodynamic/ambyth-estate> (referer: None)\n",
      "2018-10-29 16:48:33 [scrapy.core.engine] DEBUG: Crawled (200) <GET http://www.biodynamicfood.org/biodynamic/beckmen-purisima-vineyards> (referer: None)\n",
      "2018-10-29 16:48:33 [scrapy.core.engine] DEBUG: Crawled (200) <GET http://www.biodynamicfood.org/biodynamic/benziger-family-winery> (referer: None)\n",
      "2018-10-29 16:48:33 [scrapy.core.engine] DEBUG: Crawled (200) <GET http://www.biodynamicfood.org/biodynamic/cooper-mountain-vineyards> (referer: None)\n",
      "2018-10-29 16:48:33 [scrapy.core.engine] DEBUG: Crawled (200) <GET http://www.biodynamicfood.org/biodynamic/cowhorn-vineyard-garden> (referer: None)\n",
      "2018-10-29 16:48:33 [scrapy.core.engine] DEBUG: Crawled (200) <GET http://www.biodynamicfood.org/biodynamic/bonterra-vineyards> (referer: None)\n",
      "2018-10-29 16:48:33 [scrapy.core.engine] DEBUG: Crawled (200) <GET http://www.biodynamicfood.org/biodynamic/brick-house-vineyards> (referer: None)\n",
      "2018-10-29 16:48:33 [scrapy.core.engine] DEBUG: Crawled (200) <GET http://www.biodynamicfood.org/biodynamic/dark-horse-vineyard> (referer: None)\n",
      "2018-10-29 16:48:33 [scrapy.core.engine] DEBUG: Crawled (200) <GET http://www.biodynamicfood.org/biodynamic/brooks-vineyard> (referer: None)\n",
      "2018-10-29 16:48:33 [scrapy.core.engine] DEBUG: Crawled (200) <GET http://www.biodynamicfood.org/biodynamic/davero-sonoma-inc> (referer: None)\n",
      "2018-10-29 16:48:33 [scrapy.core.engine] DEBUG: Crawled (200) <GET http://www.biodynamicfood.org/biodynamic/deloach-vineyards> (referer: None)\n",
      "2018-10-29 16:48:33 [scrapy.core.engine] DEBUG: Crawled (200) <GET http://www.biodynamicfood.org/biodynamic/filigreen-farm> (referer: None)\n",
      "2018-10-29 16:48:33 [scrapy.core.engine] DEBUG: Crawled (200) <GET http://www.biodynamicfood.org/biodynamic/frey-vineyards-ltd> (referer: None)\n",
      "2018-10-29 16:48:33 [scrapy.core.engine] DEBUG: Crawled (200) <GET http://www.biodynamicfood.org/biodynamic/golden-vineyards> (referer: None)\n",
      "2018-10-29 16:48:33 [scrapy.core.engine] DEBUG: Crawled (200) <GET http://www.biodynamicfood.org/biodynamic/grimm-estates-llc> (referer: None)\n",
      "2018-10-29 16:48:33 [scrapy.core.engine] DEBUG: Crawled (200) <GET http://www.biodynamicfood.org/biodynamic/harms-vineyards-lavender-fields> (referer: None)\n"
     ]
    },
    {
     "name": "stdout",
     "output_type": "stream",
     "text": [
      "Acreage not specified for one organization.\n",
      "Acreage not specified for one organization.\n",
      "Acreage not specified for one organization.\n",
      "Acreage not specified for one organization.\n",
      "Acreage not specified for one organization.\n",
      "Acreage not specified for one organization.\n",
      "Acreage not specified for one organization.\n"
     ]
    },
    {
     "name": "stderr",
     "output_type": "stream",
     "text": [
      "2018-10-29 16:48:33 [scrapy.core.engine] DEBUG: Crawled (200) <GET http://www.biodynamicfood.org/biodynamic/hawk-horse-vineyards> (referer: None)\n",
      "2018-10-29 16:48:33 [scrapy.core.engine] DEBUG: Crawled (200) <GET http://www.biodynamicfood.org/biodynamic/hdd-llc> (referer: None)\n",
      "2018-10-29 16:48:33 [scrapy.core.engine] DEBUG: Crawled (200) <GET http://www.biodynamicfood.org/biodynamic/hedges-family-estate> (referer: None)\n",
      "2018-10-29 16:48:33 [scrapy.core.scraper] ERROR: Spider error processing <GET http://www.biodynamicfood.org/biodynamic/grimm-estates-llc> (referer: None)\n",
      "Traceback (most recent call last):\n",
      "  File \"/home/julian/PycharmProjects/organic_wine/venv/lib/python3.6/site-packages/twisted/internet/defer.py\", line 654, in _runCallbacks\n",
      "    current.result = callback(current.result, *args, **kw)\n",
      "  File \"/home/julian/PycharmProjects/organic_wine/utilities/biodynamic_spiders.py\", line 124, in parse\n",
      "    phone = [line for line in contact_info if line.startswith('Phone: ')][0]\n",
      "IndexError: list index out of range\n",
      "2018-10-29 16:48:33 [scrapy.core.engine] DEBUG: Crawled (200) <GET http://www.biodynamicfood.org/biodynamic/keeler-estate-vineyard> (referer: None)\n",
      "2018-10-29 16:48:33 [scrapy.core.engine] DEBUG: Crawled (200) <GET http://www.biodynamicfood.org/biodynamic/jacob-hart-vineyard> (referer: None)\n",
      "2018-10-29 16:48:33 [scrapy.core.engine] DEBUG: Crawled (200) <GET http://www.biodynamicfood.org/biodynamic/johan-vineyards> (referer: None)\n",
      "2018-10-29 16:48:33 [scrapy.core.engine] DEBUG: Crawled (200) <GET http://www.biodynamicfood.org/biodynamic/jack-rabbit-hill-llc> (referer: None)\n",
      "2018-10-29 16:48:33 [scrapy.core.engine] DEBUG: Crawled (200) <GET http://www.biodynamicfood.org/biodynamic/maboroshi-vineyard> (referer: None)\n",
      "2018-10-29 16:48:33 [scrapy.core.scraper] ERROR: Spider error processing <GET http://www.biodynamicfood.org/biodynamic/hdd-llc> (referer: None)\n",
      "Traceback (most recent call last):\n",
      "  File \"/home/julian/PycharmProjects/organic_wine/venv/lib/python3.6/site-packages/twisted/internet/defer.py\", line 654, in _runCallbacks\n",
      "    current.result = callback(current.result, *args, **kw)\n",
      "  File \"/home/julian/PycharmProjects/organic_wine/utilities/biodynamic_spiders.py\", line 124, in parse\n",
      "    phone = [line for line in contact_info if line.startswith('Phone: ')][0]\n",
      "IndexError: list index out of range\n",
      "2018-10-29 16:48:33 [scrapy.core.engine] DEBUG: Crawled (200) <GET http://www.biodynamicfood.org/biodynamic/maha-estate> (referer: None)\n",
      "2018-10-29 16:48:33 [scrapy.core.engine] DEBUG: Crawled (200) <GET http://www.biodynamicfood.org/biodynamic/martian-ranch-vineyard> (referer: None)\n",
      "2018-10-29 16:48:33 [scrapy.core.engine] DEBUG: Crawled (200) <GET http://www.biodynamicfood.org/biodynamic/mattern-vineyards> (referer: None)\n"
     ]
    },
    {
     "name": "stdout",
     "output_type": "stream",
     "text": [
      "Acreage not specified for one organization.\n",
      "Acreage not specified for one organization.\n",
      "Acreage not specified for one organization.\n",
      "Acreage not specified for one organization.\n",
      "Acreage not specified for one organization.\n",
      "Acreage not specified for one organization.\n"
     ]
    },
    {
     "name": "stderr",
     "output_type": "stream",
     "text": [
      "2018-10-29 16:48:33 [scrapy.core.scraper] ERROR: Spider error processing <GET http://www.biodynamicfood.org/biodynamic/maha-estate> (referer: None)\n",
      "Traceback (most recent call last):\n",
      "  File \"/home/julian/PycharmProjects/organic_wine/venv/lib/python3.6/site-packages/twisted/internet/defer.py\", line 654, in _runCallbacks\n",
      "    current.result = callback(current.result, *args, **kw)\n",
      "  File \"/home/julian/PycharmProjects/organic_wine/utilities/biodynamic_spiders.py\", line 124, in parse\n",
      "    phone = [line for line in contact_info if line.startswith('Phone: ')][0]\n",
      "IndexError: list index out of range\n",
      "2018-10-29 16:48:33 [scrapy.core.engine] DEBUG: Crawled (200) <GET http://www.biodynamicfood.org/biodynamic/Mineral-Springs-Ranch> (referer: None)\n",
      "2018-10-29 16:48:33 [scrapy.core.engine] DEBUG: Crawled (200) <GET http://www.biodynamicfood.org/biodynamic/pearl-vineyard> (referer: None)\n",
      "2018-10-29 16:48:33 [scrapy.core.engine] DEBUG: Crawled (200) <GET http://www.biodynamicfood.org/biodynamic/montinore-estate> (referer: None)\n",
      "2018-10-29 16:48:33 [scrapy.core.engine] DEBUG: Crawled (200) <GET http://www.biodynamicfood.org/biodynamic/porter-bass-vineyards> (referer: None)\n",
      "2018-10-29 16:48:33 [scrapy.core.engine] DEBUG: Crawled (200) <GET http://www.biodynamicfood.org/biodynamic/porter-creek-vineyards> (referer: None)\n",
      "2018-10-29 16:48:33 [scrapy.core.engine] DEBUG: Crawled (200) <GET http://www.biodynamicfood.org/biodynamic/pine-hawk-vineyards> (referer: None)\n",
      "2018-10-29 16:48:33 [scrapy.core.engine] DEBUG: Crawled (200) <GET http://www.biodynamicfood.org/biodynamic/preston-vineyards> (referer: None)\n",
      "2018-10-29 16:48:34 [scrapy.core.engine] DEBUG: Crawled (200) <GET http://www.biodynamicfood.org/biodynamic/narrow-gate-vineyards> (referer: None)\n",
      "2018-10-29 16:48:34 [scrapy.core.scraper] ERROR: Spider error processing <GET http://www.biodynamicfood.org/biodynamic/Mineral-Springs-Ranch> (referer: None)\n",
      "Traceback (most recent call last):\n",
      "  File \"/home/julian/PycharmProjects/organic_wine/venv/lib/python3.6/site-packages/twisted/internet/defer.py\", line 654, in _runCallbacks\n",
      "    current.result = callback(current.result, *args, **kw)\n",
      "  File \"/home/julian/PycharmProjects/organic_wine/utilities/biodynamic_spiders.py\", line 124, in parse\n",
      "    phone = [line for line in contact_info if line.startswith('Phone: ')][0]\n",
      "IndexError: list index out of range\n",
      "2018-10-29 16:48:34 [scrapy.core.scraper] ERROR: Spider error processing <GET http://www.biodynamicfood.org/biodynamic/pine-hawk-vineyards> (referer: None)\n",
      "Traceback (most recent call last):\n",
      "  File \"/home/julian/PycharmProjects/organic_wine/venv/lib/python3.6/site-packages/twisted/internet/defer.py\", line 654, in _runCallbacks\n",
      "    current.result = callback(current.result, *args, **kw)\n",
      "  File \"/home/julian/PycharmProjects/organic_wine/utilities/biodynamic_spiders.py\", line 124, in parse\n",
      "    phone = [line for line in contact_info if line.startswith('Phone: ')][0]\n",
      "IndexError: list index out of range\n",
      "2018-10-29 16:48:34 [scrapy.core.engine] DEBUG: Crawled (200) <GET http://www.biodynamicfood.org/biodynamic/Roederer-Estate-Domaine-Anderson> (referer: None)\n",
      "2018-10-29 16:48:34 [scrapy.core.engine] DEBUG: Crawled (200) <GET http://www.biodynamicfood.org/biodynamic/puma-springs-vineyards> (referer: None)\n",
      "2018-10-29 16:48:34 [scrapy.core.engine] DEBUG: Crawled (200) <GET http://www.biodynamicfood.org/biodynamic/rose-ranch> (referer: None)\n",
      "2018-10-29 16:48:34 [scrapy.core.engine] DEBUG: Crawled (200) <GET http://www.biodynamicfood.org/biodynamic/Sea-Smoke-Cellars> (referer: None)\n",
      "2018-10-29 16:48:34 [scrapy.core.engine] DEBUG: Crawled (200) <GET http://www.biodynamicfood.org/biodynamic/raymond-vineyard-and-cellar> (referer: None)\n",
      "2018-10-29 16:48:34 [scrapy.core.engine] DEBUG: Crawled (200) <GET http://www.biodynamicfood.org/biodynamic/sims-vineyard> (referer: None)\n",
      "2018-10-29 16:48:34 [scrapy.core.engine] DEBUG: Crawled (200) <GET http://www.biodynamicfood.org/biodynamic/sun-hawk-farms> (referer: None)\n",
      "2018-10-29 16:48:34 [scrapy.core.engine] DEBUG: Crawled (200) <GET http://www.biodynamicfood.org/biodynamic/sawyer-lindquist-vineyard> (referer: None)\n"
     ]
    },
    {
     "name": "stdout",
     "output_type": "stream",
     "text": [
      "Acreage not specified for one organization.\n",
      "Acreage not specified for one organization.\n",
      "Acreage not specified for one organization.\n",
      "Acreage not specified for one organization.\n",
      "Acreage not specified for one organization.\n"
     ]
    },
    {
     "name": "stderr",
     "output_type": "stream",
     "text": [
      "2018-10-29 16:48:34 [scrapy.core.engine] DEBUG: Crawled (200) <GET http://www.biodynamicfood.org/biodynamic/Tablas-Creek-Vineyard> (referer: None)\n",
      "2018-10-29 16:48:34 [scrapy.core.scraper] ERROR: Spider error processing <GET http://www.biodynamicfood.org/biodynamic/puma-springs-vineyards> (referer: None)\n",
      "Traceback (most recent call last):\n",
      "  File \"/home/julian/PycharmProjects/organic_wine/venv/lib/python3.6/site-packages/twisted/internet/defer.py\", line 654, in _runCallbacks\n",
      "    current.result = callback(current.result, *args, **kw)\n",
      "  File \"/home/julian/PycharmProjects/organic_wine/utilities/biodynamic_spiders.py\", line 124, in parse\n",
      "    phone = [line for line in contact_info if line.startswith('Phone: ')][0]\n",
      "IndexError: list index out of range\n",
      "2018-10-29 16:48:34 [scrapy.core.engine] DEBUG: Crawled (200) <GET http://www.biodynamicfood.org/biodynamic/wilridge-vineyard> (referer: None)\n",
      "2018-10-29 16:48:34 [scrapy.core.engine] DEBUG: Crawled (200) <GET http://www.biodynamicfood.org/biodynamic/Upper-Five-Vineyard> (referer: None)\n",
      "2018-10-29 16:48:34 [scrapy.core.scraper] ERROR: Spider error processing <GET http://www.biodynamicfood.org/biodynamic/Upper-Five-Vineyard> (referer: None)\n",
      "Traceback (most recent call last):\n",
      "  File \"/home/julian/PycharmProjects/organic_wine/venv/lib/python3.6/site-packages/twisted/internet/defer.py\", line 654, in _runCallbacks\n",
      "    current.result = callback(current.result, *args, **kw)\n",
      "  File \"/home/julian/PycharmProjects/organic_wine/utilities/biodynamic_spiders.py\", line 124, in parse\n",
      "    phone = [line for line in contact_info if line.startswith('Phone: ')][0]\n",
      "IndexError: list index out of range\n"
     ]
    },
    {
     "name": "stdout",
     "output_type": "stream",
     "text": [
      "Acreage not specified for one organization.\n",
      "Acreage not specified for one organization.\n",
      "Acreage not specified for one organization.\n",
      "Acreage not specified for one organization.\n",
      "Acreage not specified for one organization.\n"
     ]
    },
    {
     "name": "stderr",
     "output_type": "stream",
     "text": [
      "2018-10-29 16:48:34 [scrapy.core.engine] INFO: Closing spider (finished)\n",
      "2018-10-29 16:48:34 [scrapy.statscollectors] INFO: Dumping Scrapy stats:\n",
      "{'downloader/request_bytes': 15163,\n",
      " 'downloader/request_count': 53,\n",
      " 'downloader/request_method_count/GET': 53,\n",
      " 'downloader/response_bytes': 349527,\n",
      " 'downloader/response_count': 53,\n",
      " 'downloader/response_status_count/200': 53,\n",
      " 'finish_reason': 'finished',\n",
      " 'finish_time': datetime.datetime(2018, 10, 29, 20, 48, 34, 477625),\n",
      " 'log_count/DEBUG': 54,\n",
      " 'log_count/ERROR': 7,\n",
      " 'log_count/INFO': 7,\n",
      " 'memusage/max': 83271680,\n",
      " 'memusage/startup': 83271680,\n",
      " 'response_received_count': 53,\n",
      " 'scheduler/dequeued': 53,\n",
      " 'scheduler/dequeued/memory': 53,\n",
      " 'scheduler/enqueued': 53,\n",
      " 'scheduler/enqueued/memory': 53,\n",
      " 'spider_exceptions/IndexError': 7,\n",
      " 'start_time': datetime.datetime(2018, 10, 29, 20, 48, 31, 173019)}\n",
      "2018-10-29 16:48:34 [scrapy.core.engine] INFO: Spider closed (finished)\n"
     ]
    }
   ],
   "source": [
    "vineyard_spider.parse_organizations()"
   ]
  },
  {
   "cell_type": "code",
   "execution_count": 9,
   "metadata": {},
   "outputs": [],
   "source": [
    "vineyard_spider.close_parser()"
   ]
  },
  {
   "cell_type": "code",
   "execution_count": null,
   "metadata": {},
   "outputs": [],
   "source": []
  }
 ],
 "metadata": {
  "kernelspec": {
   "display_name": "Python 2",
   "language": "python",
   "name": "python2"
  },
  "language_info": {
   "codemirror_mode": {
    "name": "ipython",
    "version": 3
   },
   "file_extension": ".py",
   "mimetype": "text/x-python",
   "name": "python",
   "nbconvert_exporter": "python",
   "pygments_lexer": "ipython3",
   "version": "3.6.6"
  }
 },
 "nbformat": 4,
 "nbformat_minor": 1
}
